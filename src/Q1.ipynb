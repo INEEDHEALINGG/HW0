{
 "cells": [
  {
   "cell_type": "code",
   "execution_count": 3,
   "id": "bizarre-water",
   "metadata": {},
   "outputs": [
    {
     "name": "stderr",
     "output_type": "stream",
     "text": [
      "\u001b[32m\u001b[1m  Activating\u001b[22m\u001b[39m environment at `C:\\Users\\INEEDHEALING\\16745\\Project.toml`\n"
     ]
    },
    {
     "data": {
      "text/plain": [
       "matrix_isapprox (generic function with 1 method)"
      ]
     },
     "execution_count": 3,
     "metadata": {},
     "output_type": "execute_result"
    }
   ],
   "source": [
    "import Pkg; Pkg.activate(joinpath(@__DIR__,\"..\")); Pkg.instantiate();\n",
    "using LinearAlgebra\n",
    "using ForwardDiff\n",
    "using Test\n",
    "include(joinpath(@__DIR__,\"utils.jl\"))"
   ]
  },
  {
   "cell_type": "code",
   "execution_count": 2,
   "id": "b976d8b4",
   "metadata": {},
   "outputs": [
    {
     "name": "stderr",
     "output_type": "stream",
     "text": [
      "\u001b[32m\u001b[1m    Updating\u001b[22m\u001b[39m registry at `C:\\Users\\INEEDHEALING\\.julia\\registries\\General`\n",
      "\u001b[32m\u001b[1m    Updating\u001b[22m\u001b[39m git-repo `https://github.com/JuliaRegistries/General.git`\n",
      "\u001b[32m\u001b[1m   Resolving\u001b[22m\u001b[39m package versions...\n",
      "\u001b[32m\u001b[1m   Installed\u001b[22m\u001b[39m OpenSpecFun_jll ────── v0.5.5+0\n",
      "\u001b[32m\u001b[1m   Installed\u001b[22m\u001b[39m InverseFunctions ───── v0.1.2\n",
      "\u001b[32m\u001b[1m   Installed\u001b[22m\u001b[39m Compat ─────────────── v3.41.0\n",
      "\u001b[32m\u001b[1m   Installed\u001b[22m\u001b[39m CommonSubexpressions ─ v0.3.0\n",
      "\u001b[32m\u001b[1m   Installed\u001b[22m\u001b[39m SpecialFunctions ───── v2.0.0\n",
      "\u001b[32m\u001b[1m   Installed\u001b[22m\u001b[39m DocStringExtensions ── v0.8.6\n",
      "\u001b[32m\u001b[1m   Installed\u001b[22m\u001b[39m ForwardDiff ────────── v0.10.25\n",
      "\u001b[32m\u001b[1m   Installed\u001b[22m\u001b[39m StaticArrays ───────── v1.3.3\n",
      "\u001b[32m\u001b[1m   Installed\u001b[22m\u001b[39m DiffRules ──────────── v1.9.0\n",
      "\u001b[32m\u001b[1m   Installed\u001b[22m\u001b[39m LogExpFunctions ────── v0.3.6\n",
      "\u001b[32m\u001b[1m   Installed\u001b[22m\u001b[39m NaNMath ────────────── v0.3.6\n",
      "\u001b[32m\u001b[1m   Installed\u001b[22m\u001b[39m ChangesOfVariables ─── v0.1.2\n",
      "\u001b[32m\u001b[1m   Installed\u001b[22m\u001b[39m DiffResults ────────── v1.0.3\n",
      "\u001b[32m\u001b[1m   Installed\u001b[22m\u001b[39m IrrationalConstants ── v0.1.1\n",
      "\u001b[32m\u001b[1m   Installed\u001b[22m\u001b[39m MacroTools ─────────── v0.5.9\n",
      "\u001b[32m\u001b[1m   Installed\u001b[22m\u001b[39m ChainRulesCore ─────── v1.11.6\n",
      "\u001b[32m\u001b[1m    Updating\u001b[22m\u001b[39m `C:\\Users\\INEEDHEALING\\16745\\Project.toml`\n",
      " \u001b[90m [f6369f11] \u001b[39m\u001b[92m+ ForwardDiff v0.10.25\u001b[39m\n",
      "\u001b[32m\u001b[1m    Updating\u001b[22m\u001b[39m `C:\\Users\\INEEDHEALING\\16745\\Manifest.toml`\n",
      " \u001b[90m [d360d2e6] \u001b[39m\u001b[92m+ ChainRulesCore v1.11.6\u001b[39m\n",
      " \u001b[90m [9e997f8a] \u001b[39m\u001b[92m+ ChangesOfVariables v0.1.2\u001b[39m\n",
      " \u001b[90m [bbf7d656] \u001b[39m\u001b[92m+ CommonSubexpressions v0.3.0\u001b[39m\n",
      " \u001b[90m [34da2185] \u001b[39m\u001b[92m+ Compat v3.41.0\u001b[39m\n",
      " \u001b[90m [163ba53b] \u001b[39m\u001b[92m+ DiffResults v1.0.3\u001b[39m\n",
      " \u001b[90m [b552c78f] \u001b[39m\u001b[92m+ DiffRules v1.9.0\u001b[39m\n",
      " \u001b[90m [ffbed154] \u001b[39m\u001b[92m+ DocStringExtensions v0.8.6\u001b[39m\n",
      " \u001b[90m [f6369f11] \u001b[39m\u001b[92m+ ForwardDiff v0.10.25\u001b[39m\n",
      " \u001b[90m [3587e190] \u001b[39m\u001b[92m+ InverseFunctions v0.1.2\u001b[39m\n",
      " \u001b[90m [92d709cd] \u001b[39m\u001b[92m+ IrrationalConstants v0.1.1\u001b[39m\n",
      " \u001b[90m [692b3bcd] \u001b[39m\u001b[92m+ JLLWrappers v1.4.0\u001b[39m\n",
      " \u001b[90m [2ab3a3ac] \u001b[39m\u001b[92m+ LogExpFunctions v0.3.6\u001b[39m\n",
      " \u001b[90m [1914dd2f] \u001b[39m\u001b[92m+ MacroTools v0.5.9\u001b[39m\n",
      " \u001b[90m [77ba4419] \u001b[39m\u001b[92m+ NaNMath v0.3.6\u001b[39m\n",
      " \u001b[90m [21216c6a] \u001b[39m\u001b[92m+ Preferences v1.2.3\u001b[39m\n",
      " \u001b[90m [276daf66] \u001b[39m\u001b[92m+ SpecialFunctions v2.0.0\u001b[39m\n",
      " \u001b[90m [90137ffa] \u001b[39m\u001b[92m+ StaticArrays v1.3.3\u001b[39m\n",
      " \u001b[90m [efe28fd5] \u001b[39m\u001b[92m+ OpenSpecFun_jll v0.5.5+0\u001b[39m\n",
      " \u001b[90m [0dad84c5] \u001b[39m\u001b[92m+ ArgTools\u001b[39m\n",
      " \u001b[90m [56f22d72] \u001b[39m\u001b[92m+ Artifacts\u001b[39m\n",
      " \u001b[90m [2a0f44e3] \u001b[39m\u001b[92m+ Base64\u001b[39m\n",
      " \u001b[90m [ade2ca70] \u001b[39m\u001b[92m+ Dates\u001b[39m\n",
      " \u001b[90m [8bb1440f] \u001b[39m\u001b[92m+ DelimitedFiles\u001b[39m\n",
      " \u001b[90m [8ba89e20] \u001b[39m\u001b[92m+ Distributed\u001b[39m\n",
      " \u001b[90m [f43a241f] \u001b[39m\u001b[92m+ Downloads\u001b[39m\n",
      " \u001b[90m [b77e0a4c] \u001b[39m\u001b[92m+ InteractiveUtils\u001b[39m\n",
      " \u001b[90m [b27032c2] \u001b[39m\u001b[92m+ LibCURL\u001b[39m\n",
      " \u001b[90m [76f85450] \u001b[39m\u001b[92m+ LibGit2\u001b[39m\n",
      " \u001b[90m [8f399da3] \u001b[39m\u001b[92m+ Libdl\u001b[39m\n",
      " \u001b[90m [37e2e46d] \u001b[39m\u001b[92m+ LinearAlgebra\u001b[39m\n",
      " \u001b[90m [56ddb016] \u001b[39m\u001b[92m+ Logging\u001b[39m\n",
      " \u001b[90m [d6f4376e] \u001b[39m\u001b[92m+ Markdown\u001b[39m\n",
      " \u001b[90m [a63ad114] \u001b[39m\u001b[92m+ Mmap\u001b[39m\n",
      " \u001b[90m [ca575930] \u001b[39m\u001b[92m+ NetworkOptions\u001b[39m\n",
      " \u001b[90m [44cfe95a] \u001b[39m\u001b[92m+ Pkg\u001b[39m\n",
      " \u001b[90m [de0858da] \u001b[39m\u001b[92m+ Printf\u001b[39m\n",
      " \u001b[90m [3fa0cd96] \u001b[39m\u001b[92m+ REPL\u001b[39m\n",
      " \u001b[90m [9a3f8284] \u001b[39m\u001b[92m+ Random\u001b[39m\n",
      " \u001b[90m [ea8e919c] \u001b[39m\u001b[92m+ SHA\u001b[39m\n",
      " \u001b[90m [9e88b42a] \u001b[39m\u001b[92m+ Serialization\u001b[39m\n",
      " \u001b[90m [1a1011a3] \u001b[39m\u001b[92m+ SharedArrays\u001b[39m\n",
      " \u001b[90m [6462fe0b] \u001b[39m\u001b[92m+ Sockets\u001b[39m\n",
      " \u001b[90m [2f01184e] \u001b[39m\u001b[92m+ SparseArrays\u001b[39m\n",
      " \u001b[90m [10745b16] \u001b[39m\u001b[92m+ Statistics\u001b[39m\n",
      " \u001b[90m [fa267f1f] \u001b[39m\u001b[92m+ TOML\u001b[39m\n",
      " \u001b[90m [a4e569a6] \u001b[39m\u001b[92m+ Tar\u001b[39m\n",
      " \u001b[90m [8dfed614] \u001b[39m\u001b[92m+ Test\u001b[39m\n",
      " \u001b[90m [cf7118a7] \u001b[39m\u001b[92m+ UUIDs\u001b[39m\n",
      " \u001b[90m [4ec0a83e] \u001b[39m\u001b[92m+ Unicode\u001b[39m\n",
      " \u001b[90m [e66e0078] \u001b[39m\u001b[92m+ CompilerSupportLibraries_jll\u001b[39m\n",
      " \u001b[90m [deac9b47] \u001b[39m\u001b[92m+ LibCURL_jll\u001b[39m\n",
      " \u001b[90m [29816b5a] \u001b[39m\u001b[92m+ LibSSH2_jll\u001b[39m\n",
      " \u001b[90m [c8ffd9c3] \u001b[39m\u001b[92m+ MbedTLS_jll\u001b[39m\n",
      " \u001b[90m [14a3606d] \u001b[39m\u001b[92m+ MozillaCACerts_jll\u001b[39m\n",
      " \u001b[90m [05823500] \u001b[39m\u001b[92m+ OpenLibm_jll\u001b[39m\n",
      " \u001b[90m [83775a58] \u001b[39m\u001b[92m+ Zlib_jll\u001b[39m\n",
      " \u001b[90m [8e850ede] \u001b[39m\u001b[92m+ nghttp2_jll\u001b[39m\n",
      " \u001b[90m [3f19e933] \u001b[39m\u001b[92m+ p7zip_jll\u001b[39m\n",
      "\u001b[32m\u001b[1mPrecompiling\u001b[22m\u001b[39m project...\n",
      "\u001b[32m  ✓ \u001b[39m\u001b[90mOpenLibm_jll\u001b[39m\n",
      "\u001b[32m  ✓ \u001b[39m\u001b[90mCompilerSupportLibraries_jll\u001b[39m\n",
      "\u001b[32m  ✓ \u001b[39m\u001b[90mNaNMath\u001b[39m\n",
      "\u001b[32m  ✓ \u001b[39m\u001b[90mInverseFunctions\u001b[39m\n",
      "\u001b[32m  ✓ \u001b[39m\u001b[90mDocStringExtensions\u001b[39m\n",
      "\u001b[32m  ✓ \u001b[39m\u001b[90mCompat\u001b[39m\n",
      "\u001b[32m  ✓ \u001b[39m\u001b[90mIrrationalConstants\u001b[39m\n",
      "\u001b[32m  ✓ \u001b[39m\u001b[90mOpenSpecFun_jll\u001b[39m\n",
      "\u001b[32m  ✓ \u001b[39m\u001b[90mMacroTools\u001b[39m\n",
      "\u001b[32m  ✓ \u001b[39m\u001b[90mChainRulesCore\u001b[39m\n",
      "\u001b[32m  ✓ \u001b[39m\u001b[90mCommonSubexpressions\u001b[39m\n",
      "\u001b[32m  ✓ \u001b[39m\u001b[90mChangesOfVariables\u001b[39m\n",
      "\u001b[32m  ✓ \u001b[39m\u001b[90mLogExpFunctions\u001b[39m\n",
      "\u001b[32m  ✓ \u001b[39m\u001b[90mStaticArrays\u001b[39m\n",
      "\u001b[32m  ✓ \u001b[39m\u001b[90mDiffResults\u001b[39m\n",
      "\u001b[32m  ✓ \u001b[39m\u001b[90mSpecialFunctions\u001b[39m\n",
      "\u001b[32m  ✓ \u001b[39m\u001b[90mDiffRules\u001b[39m\n",
      "\u001b[32m  ✓ \u001b[39mForwardDiff\n",
      "  18 dependencies successfully precompiled in 8 seconds (5 already precompiled)\n"
     ]
    }
   ],
   "source": [
    "import Pkg; Pkg.add(\"ForwardDiff\")"
   ]
  },
  {
   "cell_type": "markdown",
   "id": "logical-footage",
   "metadata": {
    "tags": []
   },
   "source": [
    "# Question 1: Automatic Differentiation in Julia (7 pts)\n",
    "Julia has a fast and easy to use forward-mode automatic differentiation package called [ForwardDiff.jl](https://github.com/JuliaDiff/ForwardDiff.jl) that we will make use of throughout this course. In general it is easy to use and very fast, but there are a few quirks that are detailed below. This notebook will start by walking through general usage for the following cases:\n",
    "- functions with a single input \n",
    "- functions with multiple inputs\n",
    "- composite functions\n",
    "\n",
    "as well as a guide on how to avoid the most common ForwardDiff.jl error caused by creating arrays inside the function being differentiated. First, let's look at the ForwardDiff.jl functions that we are going to use:\n",
    "- `derivative(f,x)` derivative of scalar or vector valued f wrt scalar x \n",
    "- `jacobian(f,x)` jacobian of vector valued f wrt vector x\n",
    "- `gradient(f,x)` gradient of scalar valued f wrt vector x \n",
    "- `hessian(f,x)` hessian of scalar valued f wrt vector x "
   ]
  },
  {
   "cell_type": "markdown",
   "id": "confused-wheel",
   "metadata": {},
   "source": [
    "### Note on gradients:\n",
    "For an arbitrary function $f(x):\\mathbb{R}^N \\rightarrow \\mathbb{R}^M$, the jacobian is the following:\n",
    "\n",
    "\n",
    "$$\\frac{\\partial f(x)}{\\partial x} = \\left[\\begin{array}{ccc}\n",
    "\\frac{\\partial f_{1}}{\\partial x_{1}} & \\cdots & \\frac{\\partial f_{1}}{\\partial x_{n}} \\\\\n",
    "\\vdots & \\ddots & \\vdots \\\\\n",
    "\\frac{\\partial f_{m}}{\\partial x_{1}} & \\cdots & \\frac{\\partial f_{m}}{\\partial x_{n}}\n",
    "\\end{array}\\right] $$\n",
    "\n",
    "\n",
    "Now if we have a scalar valued function (like a cost function) $f(x):\\mathbb{R}^N \\rightarrow \\mathbb{R}$, the jacobian is the following row vector:\n",
    "\n",
    "$$\\frac{\\partial f(x)}{\\partial x} = \\left[\\begin{array}{ccc}\n",
    "\\frac{\\partial f_{1}}{\\partial x_{1}} & \\cdots & \\frac{\\partial f_{1}}{\\partial x_{n}}\n",
    "\\end{array}\\right] $$\n",
    "\n",
    "The transpose of this jacobian for scalar valued functions is called the gradient:\n",
    "\n",
    "$$ \\nabla f(x) = \\bigg[\\frac{\\partial f(x)}{\\partial x}\\bigg]^T $$\n",
    "\n",
    "TLDR:\n",
    "- the jacobian of a scalar value function is a row vector \n",
    "- the gradient is the transpose of this jacobian, making the gradient a column vector \n",
    "- ForwardDiff.jl will give you an error if you try to take a jacobian of a scalar valued function, use the gradient function instead"
   ]
  },
  {
   "cell_type": "markdown",
   "id": "nearby-blond",
   "metadata": {},
   "source": [
    "## Part (a): General usage (2 pts)\n",
    "The API for functions with one input is detailed below:"
   ]
  },
  {
   "cell_type": "code",
   "execution_count": 4,
   "id": "challenging-punishment",
   "metadata": {},
   "outputs": [
    {
     "name": "stdout",
     "output_type": "stream",
     "text": [
      "∂foo1_∂x = ForwardDiff.derivative(foo1, x1) = 0.603488265089111\n",
      "∇foo2 = ForwardDiff.gradient(foo2, x2) = [-0.02084902322653731, 0.7221918213044519]\n",
      "∇²foo2 = ForwardDiff.hessian(foo2, x2) = [0.9997826354915849 0.0; 0.0 -0.691692831566844]\n",
      "∂foo3_∂x = ForwardDiff.jacobian(foo3, x2) = [0.01682445033171575 -0.9997826354915849; 0.691692831566844 -1.149474345249641]\n"
     ]
    },
    {
     "data": {
      "text/plain": [
       "2×2 Matrix{Float64}:\n",
       " 0.0168245  -0.999783\n",
       " 0.691693   -1.14947"
      ]
     },
     "execution_count": 4,
     "metadata": {},
     "output_type": "execute_result"
    }
   ],
   "source": [
    "# NOTE: this block is a tutorial, you do not have to fill anything out. \n",
    "\n",
    "function foo1(x)\n",
    "    #scalar input, scalar output\n",
    "    return sin(x)*cos(x)^2\n",
    "end\n",
    "\n",
    "function foo2(x)\n",
    "    # vector input, scalar output\n",
    "    return sin(x[1]) + cos(x[2])\n",
    "end\n",
    "function foo3(x)\n",
    "    # vector input, vector output\n",
    "    return [sin(x[1])*x[2];cos(x[2])*x[1]]\n",
    "end\n",
    "\n",
    "\n",
    "let # we just use this to avoid creating global variables\n",
    "    \n",
    "    # evaluate the derivative of foo1 at x1\n",
    "    x1 = 5*randn();\n",
    "    @show ∂foo1_∂x = ForwardDiff.derivative(foo1, x1);\n",
    "    \n",
    "    # evaluate the gradient and hessian of foo2 at x2\n",
    "    x2 = 5*randn(2);\n",
    "    @show ∇foo2 = ForwardDiff.gradient(foo2, x2);\n",
    "    @show ∇²foo2 = ForwardDiff.hessian(foo2, x2);\n",
    "    \n",
    "    # evluate the jacobian of foo3 at x2\n",
    "    @show ∂foo3_∂x = ForwardDiff.jacobian(foo3,x2);\n",
    "    \n",
    "end"
   ]
  },
  {
   "cell_type": "code",
   "execution_count": 7,
   "id": "maritime-acceptance",
   "metadata": {},
   "outputs": [
    {
     "data": {
      "text/plain": [
       "foo4_expansion (generic function with 1 method)"
      ]
     },
     "execution_count": 7,
     "metadata": {},
     "output_type": "execute_result"
    }
   ],
   "source": [
    "# here is our function of interest\n",
    "function foo4(x)\n",
    "    Q = diagm([1;2;3.0])\n",
    "    return 0.5*x'*Q*x/x[1] - log(x[1])*exp(x[2])^x[3] \n",
    "end\n",
    "\n",
    "function foo4_expansion(x)\n",
    "    # TODO: this function should output the hessian H and gradient g of the function foo4\n",
    "    \n",
    "    # TODO: calculate the gradient of foo4 evaluated at x\n",
    "    g = zeros(length(x))\n",
    "    g = ForwardDiff.gradient(foo4, x);\n",
    "    # TODO: calculate the hessian of foo4 evaluated at x\n",
    "    H = zeros(length(x),length(x))\n",
    "    H = ForwardDiff.hessian(foo4, x);\n",
    "    \n",
    "    return g, H\n",
    "end"
   ]
  },
  {
   "cell_type": "code",
   "execution_count": 8,
   "id": "weighted-sucking",
   "metadata": {},
   "outputs": [
    {
     "name": "stdout",
     "output_type": "stream",
     "text": [
      "\u001b[0m\u001b[1mTest Summary: | \u001b[22m\u001b[32m\u001b[1mPass  \u001b[22m\u001b[39m\u001b[36m\u001b[1mTotal\u001b[22m\u001b[39m\n",
      "1a            | \u001b[32m   2  \u001b[39m\u001b[36m    2\u001b[39m\n"
     ]
    },
    {
     "data": {
      "text/plain": [
       "Test.DefaultTestSet(\"1a\", Any[], 2, false, false)"
      ]
     },
     "execution_count": 8,
     "metadata": {},
     "output_type": "execute_result"
    }
   ],
   "source": [
    "@testset \"1a\" begin                        # POINTS = 2\n",
    "    x = [.2;.4;.5]\n",
    "    g,H = foo4_expansion(x)\n",
    "    @test isapprox(g,[-18.98201379080085, 4.982885952667278, 8.286308762133823],atol = 1e-8)        # POINTS = 1\n",
    "    @test matrix_isapprox(H,[164.2850689540042 -23.053506895400425 -39.942805516320334; -23.053506895400425 10.491442976333639 2.3589262864014673; -39.94280551632034 2.3589262864014673 15.314523504853529];atol = 1e-8) # POINTS = 1\n",
    "end"
   ]
  },
  {
   "cell_type": "markdown",
   "id": "attractive-shade",
   "metadata": {},
   "source": [
    "## Part (b): Derivatives for functions with multiple input arguments (2 pts)"
   ]
  },
  {
   "cell_type": "code",
   "execution_count": 12,
   "id": "removed-sponsorship",
   "metadata": {},
   "outputs": [
    {
     "name": "stdout",
     "output_type": "stream",
     "text": [
      "[-0.27371703096959177, 0.457793394341845]"
     ]
    },
    {
     "data": {
      "text/plain": [
       "2×2 Matrix{Float64}:\n",
       "  0.387754  0.0\n",
       " -0.264907  0.158389"
      ]
     },
     "execution_count": 12,
     "metadata": {},
     "output_type": "execute_result"
    }
   ],
   "source": [
    "# NOTE: this block is a tutorial, you do not have to fill anything out. \n",
    "\n",
    "# calculate derivatives for functions with multiple inputs \n",
    "function dynamics(x,a,b,c)\n",
    "    return [x[1]*a; b*c*x[2]*x[1]]\n",
    "end\n",
    "\n",
    "let \n",
    "    x1 = randn(2)\n",
    "    #print(x1)\n",
    "    a = randn()\n",
    "    b = randn()\n",
    "    c = randn()\n",
    "    \n",
    "    # this evaluates the jacobian with respect to x, given a, b, and c\n",
    "    A = ForwardDiff.jacobian(dx -> dynamics(dx, a, b, c), x1)\n",
    "end"
   ]
  },
  {
   "cell_type": "code",
   "execution_count": 27,
   "id": "superb-aspect",
   "metadata": {},
   "outputs": [
    {
     "data": {
      "text/plain": [
       "eulers_jacobians (generic function with 1 method)"
      ]
     },
     "execution_count": 27,
     "metadata": {},
     "output_type": "execute_result"
    }
   ],
   "source": [
    "function eulers(x,u,J)\n",
    "    # dynamics when x is angular velocity and u is an input torque\n",
    "    ẋ = J\\(u - cross(x,J*x))\n",
    "    return ẋ\n",
    "end\n",
    "\n",
    "function eulers_jacobians(x,u,J)\n",
    "    # given x, u, and J, calculate the following two jacobians \n",
    "    \n",
    "    # TODO: fill in the following two jacobians\n",
    "    \n",
    "    # ∂ẋ/∂x\n",
    "    A = zeros(3,3)\n",
    "    A = ForwardDiff.jacobian(dx -> eulers(dx, u, J), x)\n",
    "    # ∂ẋ/∂u\n",
    "    B = zeros(3,3)\n",
    "    B = ForwardDiff.jacobian(du -> eulers(x, du, J), u)\n",
    "    return A, B\n",
    "end"
   ]
  },
  {
   "cell_type": "code",
   "execution_count": 28,
   "id": "expensive-spencer",
   "metadata": {},
   "outputs": [
    {
     "name": "stdout",
     "output_type": "stream",
     "text": [
      "\u001b[0m\u001b[1mTest Summary: | \u001b[22m\u001b[32m\u001b[1mPass  \u001b[22m\u001b[39m\u001b[36m\u001b[1mTotal\u001b[22m\u001b[39m\n",
      "1b            | \u001b[32m   2  \u001b[39m\u001b[36m    2\u001b[39m\n"
     ]
    },
    {
     "data": {
      "text/plain": [
       "Test.DefaultTestSet(\"1b\", Any[], 2, false, false)"
      ]
     },
     "execution_count": 28,
     "metadata": {},
     "output_type": "execute_result"
    }
   ],
   "source": [
    "@testset \"1b\" begin                                                # POINTS = 2\n",
    "    \n",
    "    x = [.2;-7;.2]\n",
    "    u = [.1;-.2;.343]\n",
    "    J = diagm([1.03;4;3.45])\n",
    "    \n",
    "    A,B = eulers_jacobians(x,u,J)\n",
    "\n",
    "    @test isapprox(A,-J\\(skew(x)*J - skew(J*x)), atol = 1e-8)  # POINTS = 1 \n",
    "\n",
    "    @test matrix_isapprox(B,inv(J),atol = 1e-8)                # POINTS = 1 \n",
    "\n",
    "end"
   ]
  },
  {
   "cell_type": "markdown",
   "id": "public-technique",
   "metadata": {},
   "source": [
    "## Part (c): Derivatives of composite functions (1 pts)"
   ]
  },
  {
   "cell_type": "code",
   "execution_count": 29,
   "id": "dress-listening",
   "metadata": {},
   "outputs": [
    {
     "name": "stdout",
     "output_type": "stream",
     "text": [
      "norm(∇f_1 - ∇f_2) = 0.0\n"
     ]
    },
    {
     "data": {
      "text/plain": [
       "0.0"
      ]
     },
     "execution_count": 29,
     "metadata": {},
     "output_type": "execute_result"
    }
   ],
   "source": [
    "# NOTE: this block is a tutorial, you do not have to fill anything out. \n",
    "function f(x)\n",
    "    return x[1]*x[2]\n",
    "end\n",
    "function g(x)\n",
    "    return [x[1]^2; x[2]^3]\n",
    "end\n",
    "\n",
    "let \n",
    "    x1 = 2*randn(2)\n",
    "    \n",
    "    # using gradient of the composite function\n",
    "    ∇f_1 = ForwardDiff.gradient(dx -> f(g(dx)), x1)\n",
    "    \n",
    "    # using the chain rule \n",
    "    J = ForwardDiff.jacobian(g, x1)\n",
    "    ∇f_2 = J'*ForwardDiff.gradient(f, g(x1))\n",
    "    \n",
    "    @show norm(∇f_1 - ∇f_2)\n",
    "end"
   ]
  },
  {
   "cell_type": "code",
   "execution_count": 31,
   "id": "inappropriate-sweet",
   "metadata": {},
   "outputs": [
    {
     "data": {
      "text/plain": [
       "composite_derivs (generic function with 1 method)"
      ]
     },
     "execution_count": 31,
     "metadata": {},
     "output_type": "execute_result"
    }
   ],
   "source": [
    "function f2(x)\n",
    "    return x*sin(x)/2\n",
    "end\n",
    "function g2(x)\n",
    "    return cos(x)^2 - tan(x)^3\n",
    "end\n",
    "\n",
    "function composite_derivs(x)\n",
    "    \n",
    "    # TODO: return ∂y/∂x where y = g2(f2(x)) \n",
    "    # (hint: this is 1D input and 1D output, so it's ForwardDiff.derivative)\n",
    "    answer = ForwardDiff.derivative(x -> g2(f2(x)),x)\n",
    "    return answer\n",
    "end    "
   ]
  },
  {
   "cell_type": "code",
   "execution_count": 32,
   "id": "analyzed-press",
   "metadata": {},
   "outputs": [
    {
     "name": "stdout",
     "output_type": "stream",
     "text": [
      "\u001b[0m\u001b[1mTest Summary: | \u001b[22m\u001b[32m\u001b[1mPass  \u001b[22m\u001b[39m\u001b[36m\u001b[1mTotal\u001b[22m\u001b[39m\n",
      "1c            | \u001b[32m   1  \u001b[39m\u001b[36m    1\u001b[39m\n"
     ]
    },
    {
     "data": {
      "text/plain": [
       "Test.DefaultTestSet(\"1c\", Any[], 1, false, false)"
      ]
     },
     "execution_count": 32,
     "metadata": {},
     "output_type": "execute_result"
    }
   ],
   "source": [
    "@testset \"1c\" begin                                           # POINTS = 1\n",
    "    x = 1.34 \n",
    "    deriv = composite_derivs(x)\n",
    "\n",
    "    @test isapprox(deriv,-2.390628273373545,atol = 1e-8)  # POINTS = 1\n",
    "end"
   ]
  },
  {
   "cell_type": "markdown",
   "id": "lightweight-injection",
   "metadata": {},
   "source": [
    "## Part (d): Fixing the most common ForwardDiff error (2 pt)\n",
    "First we will show an example of this error:"
   ]
  },
  {
   "cell_type": "code",
   "execution_count": 33,
   "id": "attended-master",
   "metadata": {
    "scrolled": true
   },
   "outputs": [
    {
     "name": "stderr",
     "output_type": "stream",
     "text": [
      "┌ Info: this error is expected:\n",
      "└ @ Main In[33]:16\n"
     ]
    },
    {
     "name": "stdout",
     "output_type": "stream",
     "text": [
      "MethodError: no method matching Float64(::ForwardDiff.Dual{ForwardDiff.Tag{typeof(f_zero_1), Float64}, Float64, 2})\n",
      "\u001b[0mClosest candidates are:\n",
      "\u001b[0m  (::Type{T})(::Real, \u001b[91m::RoundingMode\u001b[39m) where T<:AbstractFloat at rounding.jl:200\n",
      "\u001b[0m  (::Type{T})(::T) where T<:Number at boot.jl:760\n",
      "\u001b[0m  (::Type{T})(\u001b[91m::AbstractChar\u001b[39m) where T<:Union{AbstractChar, Number} at char.jl:50\n",
      "\u001b[0m  ..."
     ]
    }
   ],
   "source": [
    "# NOTE: this block is a tutorial, you do not have to fill anything out. \n",
    "function f_zero_1(x)\n",
    "    \n",
    "    # diffing through this function will error on this line \n",
    "    xdot = zeros(length(x))\n",
    "    \n",
    "    xdot[1] = x[1]*x[2]\n",
    "    xdot[2] = x[2]^2\n",
    "    \n",
    "    return xdot \n",
    "end\n",
    "\n",
    "let \n",
    "    # try and calculate the jacobian of f_zero_1 on x1\n",
    "    x1 = randn(2)\n",
    "    @info \"this error is expected:\"\n",
    "    try \n",
    "        ForwardDiff.jacobian(f_zero_1,x1)\n",
    "    catch e \n",
    "        buf = IOBuffer()\n",
    "        showerror(buf,e)\n",
    "        message = String(take!(buf))\n",
    "        Base.showerror(stdout,e)\n",
    "    end\n",
    "end"
   ]
  },
  {
   "cell_type": "markdown",
   "id": "realistic-afghanistan",
   "metadata": {},
   "source": [
    "This is the most common ForwardDiff error that you will encounter. ForwardDiff works by pushing `ForwardDiff.Dual` variables through the function being differentiated. Normally this works without issue, but if you create a vector of `Float64` (like you would with `xdot = zeros(5)`, it is unable to fit the `ForwardDiff.Dual`'s in with the `Float64`'s. To get around this, you have two options:"
   ]
  },
  {
   "cell_type": "markdown",
   "id": "disturbed-oregon",
   "metadata": {},
   "source": [
    "### Option 1 \n",
    "Our first option is just creating xdot directly, without creating an array of zeros to index into. "
   ]
  },
  {
   "cell_type": "code",
   "execution_count": 34,
   "id": "preceding-destiny",
   "metadata": {},
   "outputs": [
    {
     "data": {
      "text/plain": [
       "2×2 Matrix{Float64}:\n",
       " 1.70785  -0.622996\n",
       " 0.0       3.41569"
      ]
     },
     "execution_count": 34,
     "metadata": {},
     "output_type": "execute_result"
    }
   ],
   "source": [
    "# NOTE: this block is a tutorial, you do not have to fill anything out. \n",
    "function f_zero_1(x)\n",
    "    \n",
    "    # let's create xdot directly, without first making a vector of zeros \n",
    "    xdot = [x[1]*x[2], x[2]^2]\n",
    "    \n",
    "    # NOTE: the compiler figures out which type to make xdot, so when you call the function normally\n",
    "    # it's a Float64, and when it's being diffed, it's automatically promoted to a ForwardDiff.Dual type\n",
    "\n",
    "    return xdot \n",
    "end\n",
    "\n",
    "let \n",
    "    # try and calculate the jacobian of f_zero_1 on x1\n",
    "    x1 = randn(2)\n",
    "    ForwardDiff.jacobian(f_zero_1,x1) # this will work\n",
    "end"
   ]
  },
  {
   "cell_type": "markdown",
   "id": "mathematical-cause",
   "metadata": {},
   "source": [
    "### Option 2\n",
    "The second option is to create the array of zeros in a way that accounts for the input type. This can be done by replacing `zeros(length(x))` with `zeros(eltype(x),length(x))`. The first argument `eltype(x)` simply creates a vector of zeros that is the same type as the element type in vector x. "
   ]
  },
  {
   "cell_type": "code",
   "execution_count": 35,
   "id": "hungarian-calcium",
   "metadata": {},
   "outputs": [
    {
     "data": {
      "text/plain": [
       "2×2 Matrix{Float64}:\n",
       " -0.673069   0.238266\n",
       " -0.0       -1.34614"
      ]
     },
     "execution_count": 35,
     "metadata": {},
     "output_type": "execute_result"
    }
   ],
   "source": [
    "# NOTE: this block is a tutorial, you do not have to fill anything out. \n",
    "function f_zero_1(x)\n",
    "    \n",
    "    # diffing through this function will error on this line \n",
    "    xdot = zeros(eltype(x), length(x))\n",
    "    \n",
    "    xdot[1] = x[1]*x[2]\n",
    "    xdot[2] = x[2]^2\n",
    "    \n",
    "    return xdot \n",
    "end\n",
    "\n",
    "let \n",
    "    # try and calculate the jacobian of f_zero_1 on x1\n",
    "    x1 = randn(2)\n",
    "    ForwardDiff.jacobian(f_zero_1,x1) # this will fail! \n",
    "end"
   ]
  },
  {
   "cell_type": "markdown",
   "id": "creative-transport",
   "metadata": {},
   "source": [
    "Now you can show that you understand these two options by fixing two broken functions."
   ]
  },
  {
   "cell_type": "code",
   "execution_count": 40,
   "id": "sixth-education",
   "metadata": {},
   "outputs": [
    {
     "data": {
      "text/plain": [
       "dynamics (generic function with 2 methods)"
      ]
     },
     "execution_count": 40,
     "metadata": {},
     "output_type": "execute_result"
    }
   ],
   "source": [
    "# TODO: fix this error when trying to diff through this function\n",
    "# hint: you can use eltype([x;u]) to return the correct type if either x or u is a ForwardDiff.Dual (option 2)\n",
    "\n",
    "function dynamics(x,u)\n",
    "    ẋ = zeros(eltype([x;u]),length(x))\n",
    "    ẋ[1] = x[1]*sin(u[1])\n",
    "    ẋ[2] = x[2]*cos(u[2])\n",
    "    #return [x[1]*sin(u[1]),x[2]*cos(u[2])]\n",
    "    return ẋ\n",
    "end\n",
    "# let\n",
    "#     A = ForwardDiff.jacobian(x -> dynamics(x,u),x)\n",
    "#     B = ForwardDiff.jacobian(u -> dynamics(x,u),u)\n",
    "# end"
   ]
  },
  {
   "cell_type": "code",
   "execution_count": 41,
   "id": "suspected-lancaster",
   "metadata": {},
   "outputs": [
    {
     "name": "stdout",
     "output_type": "stream",
     "text": [
      "\u001b[0m\u001b[1mTest Summary: | \u001b[22m\u001b[32m\u001b[1mPass  \u001b[22m\u001b[39m\u001b[36m\u001b[1mTotal\u001b[22m\u001b[39m\n",
      "1d            | \u001b[32m   2  \u001b[39m\u001b[36m    2\u001b[39m\n"
     ]
    },
    {
     "data": {
      "text/plain": [
       "Test.DefaultTestSet(\"1d\", Any[], 2, false, false)"
      ]
     },
     "execution_count": 41,
     "metadata": {},
     "output_type": "execute_result"
    }
   ],
   "source": [
    "@testset \"1d\" begin                                     # POINTS = 2\n",
    "    x = [.1;.4]\n",
    "    u = [.2;-.3]\n",
    "    A = ForwardDiff.jacobian(_x -> dynamics(_x,u),x) \n",
    "    B = ForwardDiff.jacobian(_u -> dynamics(x,_u),u) \n",
    "    @test typeof(A) == Matrix{Float64}                  # POINTS = 1\n",
    "    @test typeof(B) == Matrix{Float64}                  # POINTS = 1\n",
    "end"
   ]
  },
  {
   "cell_type": "code",
   "execution_count": null,
   "id": "sensitive-peace",
   "metadata": {},
   "outputs": [],
   "source": []
  }
 ],
 "metadata": {
  "kernelspec": {
   "display_name": "Julia 1.6.5",
   "language": "julia",
   "name": "julia-1.6"
  },
  "language_info": {
   "file_extension": ".jl",
   "mimetype": "application/julia",
   "name": "julia",
   "version": "1.6.5"
  }
 },
 "nbformat": 4,
 "nbformat_minor": 5
}
